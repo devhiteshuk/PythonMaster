{
 "cells": [
  {
   "cell_type": "code",
   "execution_count": 5,
   "metadata": {},
   "outputs": [
    {
     "name": "stdout",
     "output_type": "stream",
     "text": [
      "4\n",
      "\n",
      "EC2 Demo:\n",
      "Listing EC2 instances:\n",
      "Error in EC2 operations: An error occurred (UnauthorizedOperation) when calling the DescribeInstances operation: You are not authorized to perform this operation. User: arn:aws:iam::430006376054:user/bdus8292023 is not authorized to perform: ec2:DescribeInstances because no identity-based policy allows the ec2:DescribeInstances action\n",
      "\n",
      "DynamoDB Demo:\n"
     ]
    }
   ],
   "source": [
    "import boto3\n",
    "from botocore.exceptions import NoCredentialsError, PartialCredentialsError\n",
    "\n",
    "print(2+2)\n",
    "def ec2_demo():\n",
    "    print(\"\\nEC2 Demo:\")\n",
    "    ec2 = boto3.client('ec2')\n",
    "    try:\n",
    "        # List all EC2 instances\n",
    "        print(\"Listing EC2 instances:\")\n",
    "        instances = ec2.describe_instances()\n",
    "    except Exception as e:\n",
    "        print(f\"Error in EC2 operations: {e}\")\n",
    "\n",
    "# DynamoDB Demo\n",
    "def dynamodb_demo():\n",
    "    print(\"\\nDynamoDB Demo:\")\n",
    "    dynamodb = boto3.client('dynamodb')\n",
    "    table_name = \"DemoTable\"\n",
    "    \n",
    "ec2_demo()\n",
    "dynamodb_demo()"
   ]
  }
 ],
 "metadata": {
  "kernelspec": {
   "display_name": "Python 3",
   "language": "python",
   "name": "python3"
  },
  "language_info": {
   "codemirror_mode": {
    "name": "ipython",
    "version": 3
   },
   "file_extension": ".py",
   "mimetype": "text/x-python",
   "name": "python",
   "nbconvert_exporter": "python",
   "pygments_lexer": "ipython3",
   "version": "3.12.9"
  }
 },
 "nbformat": 4,
 "nbformat_minor": 2
}
