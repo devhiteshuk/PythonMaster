{
 "cells": [
  {
   "cell_type": "code",
   "execution_count": 1,
   "metadata": {},
   "outputs": [
    {
     "name": "stdout",
     "output_type": "stream",
     "text": [
      "Database file not found! Please check the path.\n"
     ]
    }
   ],
   "source": [
    "import sqlite3\n",
    "import os\n",
    "\n",
    "# Replace with your Skype username\n",
    "skype_username = \"live:.cid.91279bc277fdb584\"\n",
    "\n",
    "# Path to the Skype database\n",
    "db_path = os.path.expanduser(f\"~\\\\AppData\\\\Roaming\\\\Skype\\\\{skype_username}\\\\main.db\")\n",
    "\n",
    "if not os.path.exists(db_path):\n",
    "    print(\"Database file not found! Please check the path.\")\n",
    "else:\n",
    "    # Connect to the SQLite database\n",
    "    conn = sqlite3.connect(db_path)\n",
    "    cursor = conn.cursor()\n",
    "\n",
    "    # Query to fetch chat messages\n",
    "    query = \"SELECT author, timestamp, body_xml FROM Messages ORDER BY timestamp DESC LIMIT 10\"\n",
    "\n",
    "    cursor.execute(query)\n",
    "    messages = cursor.fetchall()\n",
    "\n",
    "    print(\"Recent Skype Chat Messages:\")\n",
    "    for author, timestamp, body in messages:\n",
    "        print(f\"[{author}] {body}\")\n",
    "\n",
    "    # Close the database connection\n",
    "    conn.close()\n"
   ]
  }
 ],
 "metadata": {
  "kernelspec": {
   "display_name": "Python 3",
   "language": "python",
   "name": "python3"
  },
  "language_info": {
   "codemirror_mode": {
    "name": "ipython",
    "version": 3
   },
   "file_extension": ".py",
   "mimetype": "text/x-python",
   "name": "python",
   "nbconvert_exporter": "python",
   "pygments_lexer": "ipython3",
   "version": "3.12.9"
  }
 },
 "nbformat": 4,
 "nbformat_minor": 2
}
