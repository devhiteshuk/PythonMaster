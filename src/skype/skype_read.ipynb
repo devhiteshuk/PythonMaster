{
 "cells": [
  {
   "cell_type": "code",
   "execution_count": null,
   "metadata": {},
   "outputs": [],
   "source": [
    "from skpy import Skype\n",
    "import os\n",
    "\n",
    "un=os.environ.get(\"HADOOP_HOME\")\n",
    "pswd = os.environ(\"SKYPE_PASSWORD\")\n",
    "\n",
    "username = \"hitesh.dhamshaniy.itc@outlook.com\"\n",
    "password = \"t$!7J8UjG\"\n",
    "skypeTokenFile = \"D:\\\\Workspace\\\\PythonMaster\\\\src\\\\skype\\\\tokens.txt\"\n",
    "# Login with Skype credentials\n",
    "#skype = Skype(\"Sujay.Chandra.itc@outlook.com\", \"t$!7J8UjG\", tokenFile=\"skype.token\")\n",
    "\n",
    "sk = Skype(username, password, tokenFile=skypeTokenFile)\n"
   ]
  },
  {
   "cell_type": "code",
   "execution_count": 37,
   "metadata": {},
   "outputs": [
    {
     "name": "stdout",
     "output_type": "stream",
     "text": [
      "Skype chat history saved to: D:\\Workspace\\PythonMaster\\src\\skype\\skype_chat_history.txt\n"
     ]
    }
   ],
   "source": [
    "from skpy import Skype, SkypeChats\n",
    "\n",
    "# Path to Skype token file\n",
    "skypeTokenFile = \"D:\\\\Workspace\\\\PythonMaster\\\\src\\\\skype\\\\tokens.txt\"\n",
    "\n",
    "# Output file path\n",
    "output_file = \"D:\\\\Workspace\\\\PythonMaster\\\\src\\\\skype\\\\skype_chat_history.txt\"\n",
    "\n",
    "# Login using token file\n",
    "skype = Skype(tokenFile=skypeTokenFile)\n",
    "\n",
    "# Get recent chats\n",
    "skc = SkypeChats(skype)\n",
    "recent_chats = skc.recent()  # Retrieves recent conversations\n",
    "\n",
    "# Open file in write mode\n",
    "with open(output_file, \"w\", encoding=\"utf-8\") as file:\n",
    "    for chat_id, chat in recent_chats.items():\n",
    "        file.write(f\"Chat with: {chat or chat_id}\\n\")\n",
    "        file.write(\"-\" * 50 + \"\\n\")\n",
    "\n",
    "        # Get recent messages in this chat\n",
    "        for msg in chat.getMsgs():\n",
    "            file.write(f\"[{msg.time}] {msg.userId}: {msg.content}\\n\")\n",
    "        \n",
    "        file.write(\"\\n\\n\")  # Add spacing between chats\n",
    "\n",
    "print(f\"Skype chat history saved to: {output_file}\")\n"
   ]
  },
  {
   "cell_type": "code",
   "execution_count": 14,
   "metadata": {},
   "outputs": [
    {
     "ename": "SkypeApiException",
     "evalue": "('400 response from GET https://azscus1-client-s.gateway.messenger.live.com/v1/users/ME/conversations/Obinna ITC BD', <Response [400]>)",
     "output_type": "error",
     "traceback": [
      "\u001b[1;31m---------------------------------------------------------------------------\u001b[0m",
      "\u001b[1;31mKeyError\u001b[0m                                  Traceback (most recent call last)",
      "File \u001b[1;32m~\\AppData\\Local\\Packages\\PythonSoftwareFoundation.Python.3.12_qbz5n2kfra8p0\\LocalCache\\local-packages\\Python312\\site-packages\\skpy\\chat.py:476\u001b[0m, in \u001b[0;36mSkypeChats.__getitem__\u001b[1;34m(self, key)\u001b[0m\n\u001b[0;32m    475\u001b[0m \u001b[38;5;28;01mtry\u001b[39;00m:\n\u001b[1;32m--> 476\u001b[0m     \u001b[38;5;28;01mreturn\u001b[39;00m \u001b[38;5;28;43msuper\u001b[39;49m\u001b[43m(\u001b[49m\u001b[43mSkypeChats\u001b[49m\u001b[43m,\u001b[49m\u001b[43m \u001b[49m\u001b[38;5;28;43mself\u001b[39;49m\u001b[43m)\u001b[49m\u001b[38;5;241;43m.\u001b[39;49m\u001b[38;5;21;43m__getitem__\u001b[39;49m\u001b[43m(\u001b[49m\u001b[43mkey\u001b[49m\u001b[43m)\u001b[49m\n\u001b[0;32m    477\u001b[0m \u001b[38;5;28;01mexcept\u001b[39;00m \u001b[38;5;167;01mKeyError\u001b[39;00m:\n",
      "File \u001b[1;32m~\\AppData\\Local\\Packages\\PythonSoftwareFoundation.Python.3.12_qbz5n2kfra8p0\\LocalCache\\local-packages\\Python312\\site-packages\\skpy\\core.py:138\u001b[0m, in \u001b[0;36mSkypeObjs.__getitem__\u001b[1;34m(self, key)\u001b[0m\n\u001b[0;32m    137\u001b[0m     \u001b[38;5;28mself\u001b[39m\u001b[38;5;241m.\u001b[39msync()\n\u001b[1;32m--> 138\u001b[0m \u001b[38;5;28;01mreturn\u001b[39;00m \u001b[38;5;28;43mself\u001b[39;49m\u001b[38;5;241;43m.\u001b[39;49m\u001b[43mcache\u001b[49m\u001b[43m[\u001b[49m\u001b[43mkey\u001b[49m\u001b[43m]\u001b[49m\n",
      "\u001b[1;31mKeyError\u001b[0m: 'Obinna ITC BD'",
      "\nDuring handling of the above exception, another exception occurred:\n",
      "\u001b[1;31mSkypeApiException\u001b[0m                         Traceback (most recent call last)",
      "Cell \u001b[1;32mIn[14], line 2\u001b[0m\n\u001b[0;32m      1\u001b[0m \u001b[38;5;66;03m# Replace with the chat ID or name\u001b[39;00m\n\u001b[1;32m----> 2\u001b[0m chat \u001b[38;5;241m=\u001b[39m \u001b[43mskype\u001b[49m\u001b[38;5;241;43m.\u001b[39;49m\u001b[43mchats\u001b[49m\u001b[43m[\u001b[49m\u001b[38;5;124;43m\"\u001b[39;49m\u001b[38;5;124;43mObinna ITC BD\u001b[39;49m\u001b[38;5;124;43m\"\u001b[39;49m\u001b[43m]\u001b[49m\n\u001b[0;32m      4\u001b[0m \u001b[38;5;66;03m# Fetch the last 10 messages\u001b[39;00m\n\u001b[0;32m      5\u001b[0m messages \u001b[38;5;241m=\u001b[39m chat\u001b[38;5;241m.\u001b[39mgetMsgs()[:\u001b[38;5;241m10\u001b[39m]\n",
      "File \u001b[1;32m~\\AppData\\Local\\Packages\\PythonSoftwareFoundation.Python.3.12_qbz5n2kfra8p0\\LocalCache\\local-packages\\Python312\\site-packages\\skpy\\chat.py:478\u001b[0m, in \u001b[0;36mSkypeChats.__getitem__\u001b[1;34m(self, key)\u001b[0m\n\u001b[0;32m    476\u001b[0m     \u001b[38;5;28;01mreturn\u001b[39;00m \u001b[38;5;28msuper\u001b[39m(SkypeChats, \u001b[38;5;28mself\u001b[39m)\u001b[38;5;241m.\u001b[39m\u001b[38;5;21m__getitem__\u001b[39m(key)\n\u001b[0;32m    477\u001b[0m \u001b[38;5;28;01mexcept\u001b[39;00m \u001b[38;5;167;01mKeyError\u001b[39;00m:\n\u001b[1;32m--> 478\u001b[0m     \u001b[38;5;28;01mreturn\u001b[39;00m \u001b[38;5;28;43mself\u001b[39;49m\u001b[38;5;241;43m.\u001b[39;49m\u001b[43mchat\u001b[49m\u001b[43m(\u001b[49m\u001b[43mkey\u001b[49m\u001b[43m)\u001b[49m\n",
      "File \u001b[1;32m~\\AppData\\Local\\Packages\\PythonSoftwareFoundation.Python.3.12_qbz5n2kfra8p0\\LocalCache\\local-packages\\Python312\\site-packages\\skpy\\chat.py:511\u001b[0m, in \u001b[0;36mSkypeChats.chat\u001b[1;34m(self, id)\u001b[0m\n\u001b[0;32m    501\u001b[0m \u001b[38;5;28;01mdef\u001b[39;00m\u001b[38;5;250m \u001b[39m\u001b[38;5;21mchat\u001b[39m(\u001b[38;5;28mself\u001b[39m, \u001b[38;5;28mid\u001b[39m):\n\u001b[0;32m    502\u001b[0m \u001b[38;5;250m    \u001b[39m\u001b[38;5;124;03m\"\"\"\u001b[39;00m\n\u001b[0;32m    503\u001b[0m \u001b[38;5;124;03m    Get a single conversation by identifier.\u001b[39;00m\n\u001b[0;32m    504\u001b[0m \n\u001b[1;32m   (...)\u001b[0m\n\u001b[0;32m    509\u001b[0m \u001b[38;5;124;03m        :class:`SkypeChat`: retrieved conversation\u001b[39;00m\n\u001b[0;32m    510\u001b[0m \u001b[38;5;124;03m    \"\"\"\u001b[39;00m\n\u001b[1;32m--> 511\u001b[0m     json \u001b[38;5;241m=\u001b[39m \u001b[38;5;28;43mself\u001b[39;49m\u001b[38;5;241;43m.\u001b[39;49m\u001b[43mskype\u001b[49m\u001b[38;5;241;43m.\u001b[39;49m\u001b[43mconn\u001b[49m\u001b[43m(\u001b[49m\u001b[38;5;124;43m\"\u001b[39;49m\u001b[38;5;124;43mGET\u001b[39;49m\u001b[38;5;124;43m\"\u001b[39;49m\u001b[43m,\u001b[49m\u001b[43m \u001b[49m\u001b[38;5;124;43m\"\u001b[39;49m\u001b[38;5;132;43;01m{0}\u001b[39;49;00m\u001b[38;5;124;43m/users/ME/conversations/\u001b[39;49m\u001b[38;5;132;43;01m{1}\u001b[39;49;00m\u001b[38;5;124;43m\"\u001b[39;49m\u001b[38;5;241;43m.\u001b[39;49m\u001b[43mformat\u001b[49m\u001b[43m(\u001b[49m\u001b[38;5;28;43mself\u001b[39;49m\u001b[38;5;241;43m.\u001b[39;49m\u001b[43mskype\u001b[49m\u001b[38;5;241;43m.\u001b[39;49m\u001b[43mconn\u001b[49m\u001b[38;5;241;43m.\u001b[39;49m\u001b[43mmsgsHost\u001b[49m\u001b[43m,\u001b[49m\u001b[43m \u001b[49m\u001b[38;5;28;43mid\u001b[39;49m\u001b[43m)\u001b[49m\u001b[43m,\u001b[49m\n\u001b[0;32m    512\u001b[0m \u001b[43m                           \u001b[49m\u001b[43mauth\u001b[49m\u001b[38;5;241;43m=\u001b[39;49m\u001b[43mSkypeConnection\u001b[49m\u001b[38;5;241;43m.\u001b[39;49m\u001b[43mAuth\u001b[49m\u001b[38;5;241;43m.\u001b[39;49m\u001b[43mRegToken\u001b[49m\u001b[43m,\u001b[49m\u001b[43m \u001b[49m\u001b[43mparams\u001b[49m\u001b[38;5;241;43m=\u001b[39;49m\u001b[43m{\u001b[49m\u001b[38;5;124;43m\"\u001b[39;49m\u001b[38;5;124;43mview\u001b[39;49m\u001b[38;5;124;43m\"\u001b[39;49m\u001b[43m:\u001b[49m\u001b[43m \u001b[49m\u001b[38;5;124;43m\"\u001b[39;49m\u001b[38;5;124;43mmsnp24Equivalent\u001b[39;49m\u001b[38;5;124;43m\"\u001b[39;49m\u001b[43m}\u001b[49m\u001b[43m)\u001b[49m\u001b[38;5;241m.\u001b[39mjson()\n\u001b[0;32m    513\u001b[0m     \u001b[38;5;28;01mreturn\u001b[39;00m \u001b[38;5;28mself\u001b[39m\u001b[38;5;241m.\u001b[39mmerge(SkypeChat\u001b[38;5;241m.\u001b[39mfromRaw(\u001b[38;5;28mself\u001b[39m\u001b[38;5;241m.\u001b[39mskype, json))\n",
      "File \u001b[1;32m~\\AppData\\Local\\Packages\\PythonSoftwareFoundation.Python.3.12_qbz5n2kfra8p0\\LocalCache\\local-packages\\Python312\\site-packages\\skpy\\conn.py:250\u001b[0m, in \u001b[0;36mSkypeConnection.__call__\u001b[1;34m(self, method, url, codes, auth, headers, **kwargs)\u001b[0m\n\u001b[0;32m    248\u001b[0m     \u001b[38;5;28;01mif\u001b[39;00m resp\u001b[38;5;241m.\u001b[39mstatus_code \u001b[38;5;241m==\u001b[39m \u001b[38;5;241m429\u001b[39m:\n\u001b[0;32m    249\u001b[0m         \u001b[38;5;28;01mraise\u001b[39;00m SkypeRateLimitException(\u001b[38;5;124m\"\u001b[39m\u001b[38;5;124mRate limit exceeded\u001b[39m\u001b[38;5;124m\"\u001b[39m, resp)\n\u001b[1;32m--> 250\u001b[0m     \u001b[38;5;28;01mraise\u001b[39;00m SkypeApiException(\u001b[38;5;124m\"\u001b[39m\u001b[38;5;132;01m{0}\u001b[39;00m\u001b[38;5;124m response from \u001b[39m\u001b[38;5;132;01m{1}\u001b[39;00m\u001b[38;5;124m \u001b[39m\u001b[38;5;132;01m{2}\u001b[39;00m\u001b[38;5;124m\"\u001b[39m\u001b[38;5;241m.\u001b[39mformat(resp\u001b[38;5;241m.\u001b[39mstatus_code, method, url), resp)\n\u001b[0;32m    251\u001b[0m \u001b[38;5;28;01mreturn\u001b[39;00m resp\n",
      "\u001b[1;31mSkypeApiException\u001b[0m: ('400 response from GET https://azscus1-client-s.gateway.messenger.live.com/v1/users/ME/conversations/Obinna ITC BD', <Response [400]>)"
     ]
    }
   ],
   "source": [
    "# Replace with the chat ID or name\n",
    "chat = skype.chats[\"Obinna ITC BD\"]\n",
    "\n",
    "# Fetch the last 10 messages\n",
    "messages = chat.getMsgs()[:10]\n",
    "\n",
    "for message in messages:\n",
    "    print(f\"{message.user.name}: {message.content}\")\n"
   ]
  }
 ],
 "metadata": {
  "kernelspec": {
   "display_name": "Python 3",
   "language": "python",
   "name": "python3"
  },
  "language_info": {
   "codemirror_mode": {
    "name": "ipython",
    "version": 3
   },
   "file_extension": ".py",
   "mimetype": "text/x-python",
   "name": "python",
   "nbconvert_exporter": "python",
   "pygments_lexer": "ipython3",
   "version": "3.12.9"
  }
 },
 "nbformat": 4,
 "nbformat_minor": 2
}
